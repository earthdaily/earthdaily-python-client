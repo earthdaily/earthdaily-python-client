{
  "cells": [
    {
      "cell_type": "markdown",
      "metadata": {},
      "source": [
        "\n# EarthDaily unique common band names\n\nFor a better interoperability between sensors.\n"
      ]
    },
    {
      "cell_type": "markdown",
      "metadata": {},
      "source": [
        "## Import librairies\n\n"
      ]
    },
    {
      "cell_type": "code",
      "execution_count": null,
      "metadata": {
        "collapsed": false
      },
      "outputs": [],
      "source": [
        "from rich.console import Console\nfrom rich.table import Table\n\nfrom earthdaily.earthdatastore.cube_utils import asset_mapper\n\nconsole = Console(force_interactive=True)"
      ]
    },
    {
      "cell_type": "markdown",
      "metadata": {},
      "source": [
        "## Show each collection with their earthdaily common band names\nFor band names where several bands are available (rededge) it has been chosen\nto use the central wavelength (rededge70 is rededge1 of sentinel-2 for example).\n\n\n"
      ]
    },
    {
      "cell_type": "code",
      "execution_count": null,
      "metadata": {
        "collapsed": false
      },
      "outputs": [],
      "source": [
        "for collection, assets in asset_mapper._asset_mapper_config.items():\n    table = Table(\n        \"asset\",\n        \"EarthDaily Common band name\",\n        title=f\"Earthdaily common names for {collection}\",\n    )\n    for common_name, asset in assets[0].items():\n        table.add_row(asset, common_name)\n    console.print(table)"
      ]
    }
  ],
  "metadata": {
    "kernelspec": {
      "display_name": "Python 3",
      "language": "python",
      "name": "python3"
    },
    "language_info": {
      "codemirror_mode": {
        "name": "ipython",
        "version": 3
      },
      "file_extension": ".py",
      "mimetype": "text/x-python",
      "name": "python",
      "nbconvert_exporter": "python",
      "pygments_lexer": "ipython3",
      "version": "3.11.11"
    }
  },
  "nbformat": 4,
  "nbformat_minor": 0
}