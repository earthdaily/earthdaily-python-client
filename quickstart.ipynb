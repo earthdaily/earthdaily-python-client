{
 "cells": [
  {
   "cell_type": "code",
   "execution_count": 2,
   "metadata": {},
   "outputs": [],
   "source": [
    "# !pip install earthdaily"
   ]
  },
  {
   "cell_type": "code",
   "execution_count": 3,
   "metadata": {},
   "outputs": [],
   "source": [
    "from dotenv import load_dotenv\n",
    "assert load_dotenv(\".env\") "
   ]
  },
  {
   "cell_type": "code",
   "execution_count": 4,
   "metadata": {},
   "outputs": [
    {
     "name": "stderr",
     "output_type": "stream",
     "text": [
      "/home/codespace/.local/lib/python3.12/site-packages/ee_extra-0.0.15-py3.12.egg/ee_extra/JavaScript/translate_functions.py:110: SyntaxWarning: invalid escape sequence '\\.'\n",
      "/home/codespace/.local/lib/python3.12/site-packages/ee_extra-0.0.15-py3.12.egg/ee_extra/JavaScript/translate_functions.py:144: SyntaxWarning: invalid escape sequence '\\s'\n",
      "/home/codespace/.local/lib/python3.12/site-packages/ee_extra-0.0.15-py3.12.egg/ee_extra/JavaScript/translate_functions.py:392: SyntaxWarning: invalid escape sequence '\\s'\n",
      "/home/codespace/.local/lib/python3.12/site-packages/ee_extra-0.0.15-py3.12.egg/ee_extra/JavaScript/translate_functions.py:602: SyntaxWarning: invalid escape sequence '\\s'\n",
      "/home/codespace/.local/lib/python3.12/site-packages/ee_extra-0.0.15-py3.12.egg/ee_extra/JavaScript/translate_functions.py:110: SyntaxWarning: invalid escape sequence '\\.'\n",
      "/home/codespace/.local/lib/python3.12/site-packages/ee_extra-0.0.15-py3.12.egg/ee_extra/JavaScript/translate_functions.py:144: SyntaxWarning: invalid escape sequence '\\s'\n",
      "/home/codespace/.local/lib/python3.12/site-packages/ee_extra-0.0.15-py3.12.egg/ee_extra/JavaScript/translate_functions.py:392: SyntaxWarning: invalid escape sequence '\\s'\n",
      "/home/codespace/.local/lib/python3.12/site-packages/ee_extra-0.0.15-py3.12.egg/ee_extra/JavaScript/translate_functions.py:602: SyntaxWarning: invalid escape sequence '\\s'\n",
      "/home/codespace/.local/lib/python3.12/site-packages/ee_extra-0.0.15-py3.12.egg/ee_extra/JavaScript/translate_jsm_wrappers.py:45: SyntaxWarning: invalid escape sequence '\\w'\n",
      "/home/codespace/.local/lib/python3.12/site-packages/ee_extra-0.0.15-py3.12.egg/ee_extra/JavaScript/translate_jsm_wrappers.py:47: SyntaxWarning: invalid escape sequence '\\w'\n",
      "/home/codespace/.local/lib/python3.12/site-packages/ee_extra-0.0.15-py3.12.egg/ee_extra/JavaScript/translate_jsm_wrappers.py:96: SyntaxWarning: invalid escape sequence '\\w'\n",
      "/home/codespace/.local/lib/python3.12/site-packages/ee_extra-0.0.15-py3.12.egg/ee_extra/JavaScript/translate_jsm_wrappers.py:119: SyntaxWarning: invalid escape sequence '\\w'\n",
      "/home/codespace/.local/lib/python3.12/site-packages/ee_extra-0.0.15-py3.12.egg/ee_extra/JavaScript/translate_jsm_wrappers.py:665: SyntaxWarning: invalid escape sequence '\\s'\n",
      "/home/codespace/.local/lib/python3.12/site-packages/ee_extra-0.0.15-py3.12.egg/ee_extra/JavaScript/translate_jsm_wrappers.py:666: SyntaxWarning: invalid escape sequence '\\s'\n",
      "/home/codespace/.local/lib/python3.12/site-packages/ee_extra-0.0.15-py3.12.egg/ee_extra/JavaScript/translate_jsm_wrappers.py:45: SyntaxWarning: invalid escape sequence '\\w'\n",
      "/home/codespace/.local/lib/python3.12/site-packages/ee_extra-0.0.15-py3.12.egg/ee_extra/JavaScript/translate_jsm_wrappers.py:47: SyntaxWarning: invalid escape sequence '\\w'\n",
      "/home/codespace/.local/lib/python3.12/site-packages/ee_extra-0.0.15-py3.12.egg/ee_extra/JavaScript/translate_jsm_wrappers.py:96: SyntaxWarning: invalid escape sequence '\\w'\n",
      "/home/codespace/.local/lib/python3.12/site-packages/ee_extra-0.0.15-py3.12.egg/ee_extra/JavaScript/translate_jsm_wrappers.py:119: SyntaxWarning: invalid escape sequence '\\w'\n",
      "/home/codespace/.local/lib/python3.12/site-packages/ee_extra-0.0.15-py3.12.egg/ee_extra/JavaScript/translate_jsm_wrappers.py:665: SyntaxWarning: invalid escape sequence '\\s'\n",
      "/home/codespace/.local/lib/python3.12/site-packages/ee_extra-0.0.15-py3.12.egg/ee_extra/JavaScript/translate_jsm_wrappers.py:666: SyntaxWarning: invalid escape sequence '\\s'\n",
      "/home/codespace/.local/lib/python3.12/site-packages/ee_extra-0.0.15-py3.12.egg/ee_extra/JavaScript/translate_specialfunctions.py:21: SyntaxWarning: invalid escape sequence '\\w'\n",
      "/home/codespace/.local/lib/python3.12/site-packages/ee_extra-0.0.15-py3.12.egg/ee_extra/JavaScript/translate_specialfunctions.py:21: SyntaxWarning: invalid escape sequence '\\w'\n",
      "/home/codespace/.local/lib/python3.12/site-packages/ee_extra-0.0.15-py3.12.egg/ee_extra/JavaScript/translate_loops.py:49: SyntaxWarning: invalid escape sequence '\\s'\n",
      "/home/codespace/.local/lib/python3.12/site-packages/ee_extra-0.0.15-py3.12.egg/ee_extra/JavaScript/translate_loops.py:61: SyntaxWarning: invalid escape sequence '\\)'\n",
      "/home/codespace/.local/lib/python3.12/site-packages/ee_extra-0.0.15-py3.12.egg/ee_extra/JavaScript/translate_loops.py:109: SyntaxWarning: invalid escape sequence '\\('\n",
      "/home/codespace/.local/lib/python3.12/site-packages/ee_extra-0.0.15-py3.12.egg/ee_extra/JavaScript/translate_loops.py:111: SyntaxWarning: invalid escape sequence '\\s'\n",
      "/home/codespace/.local/lib/python3.12/site-packages/ee_extra-0.0.15-py3.12.egg/ee_extra/JavaScript/translate_loops.py:167: SyntaxWarning: invalid escape sequence '\\s'\n",
      "/home/codespace/.local/lib/python3.12/site-packages/ee_extra-0.0.15-py3.12.egg/ee_extra/JavaScript/translate_loops.py:177: SyntaxWarning: invalid escape sequence '\\s'\n",
      "/home/codespace/.local/lib/python3.12/site-packages/ee_extra-0.0.15-py3.12.egg/ee_extra/JavaScript/translate_loops.py:212: SyntaxWarning: invalid escape sequence '\\s'\n",
      "/home/codespace/.local/lib/python3.12/site-packages/ee_extra-0.0.15-py3.12.egg/ee_extra/JavaScript/translate_loops.py:220: SyntaxWarning: invalid escape sequence '\\s'\n",
      "/home/codespace/.local/lib/python3.12/site-packages/ee_extra-0.0.15-py3.12.egg/ee_extra/JavaScript/translate_loops.py:224: SyntaxWarning: invalid escape sequence '\\s'\n",
      "/home/codespace/.local/lib/python3.12/site-packages/ee_extra-0.0.15-py3.12.egg/ee_extra/JavaScript/translate_loops.py:225: SyntaxWarning: invalid escape sequence '\\s'\n",
      "/home/codespace/.local/lib/python3.12/site-packages/ee_extra-0.0.15-py3.12.egg/ee_extra/JavaScript/translate_loops.py:49: SyntaxWarning: invalid escape sequence '\\s'\n",
      "/home/codespace/.local/lib/python3.12/site-packages/ee_extra-0.0.15-py3.12.egg/ee_extra/JavaScript/translate_loops.py:61: SyntaxWarning: invalid escape sequence '\\)'\n",
      "/home/codespace/.local/lib/python3.12/site-packages/ee_extra-0.0.15-py3.12.egg/ee_extra/JavaScript/translate_loops.py:109: SyntaxWarning: invalid escape sequence '\\('\n",
      "/home/codespace/.local/lib/python3.12/site-packages/ee_extra-0.0.15-py3.12.egg/ee_extra/JavaScript/translate_loops.py:111: SyntaxWarning: invalid escape sequence '\\s'\n",
      "/home/codespace/.local/lib/python3.12/site-packages/ee_extra-0.0.15-py3.12.egg/ee_extra/JavaScript/translate_loops.py:167: SyntaxWarning: invalid escape sequence '\\s'\n",
      "/home/codespace/.local/lib/python3.12/site-packages/ee_extra-0.0.15-py3.12.egg/ee_extra/JavaScript/translate_loops.py:177: SyntaxWarning: invalid escape sequence '\\s'\n",
      "/home/codespace/.local/lib/python3.12/site-packages/ee_extra-0.0.15-py3.12.egg/ee_extra/JavaScript/translate_loops.py:212: SyntaxWarning: invalid escape sequence '\\s'\n",
      "/home/codespace/.local/lib/python3.12/site-packages/ee_extra-0.0.15-py3.12.egg/ee_extra/JavaScript/translate_loops.py:220: SyntaxWarning: invalid escape sequence '\\s'\n",
      "/home/codespace/.local/lib/python3.12/site-packages/ee_extra-0.0.15-py3.12.egg/ee_extra/JavaScript/translate_loops.py:224: SyntaxWarning: invalid escape sequence '\\s'\n",
      "/home/codespace/.local/lib/python3.12/site-packages/ee_extra-0.0.15-py3.12.egg/ee_extra/JavaScript/translate_loops.py:225: SyntaxWarning: invalid escape sequence '\\s'\n",
      "/home/codespace/.local/lib/python3.12/site-packages/ee_extra-0.0.15-py3.12.egg/ee_extra/JavaScript/translate_main.py:89: SyntaxWarning: invalid escape sequence '\\('\n",
      "/home/codespace/.local/lib/python3.12/site-packages/ee_extra-0.0.15-py3.12.egg/ee_extra/JavaScript/translate_main.py:98: SyntaxWarning: invalid escape sequence '\\s'\n",
      "/home/codespace/.local/lib/python3.12/site-packages/ee_extra-0.0.15-py3.12.egg/ee_extra/JavaScript/translate_main.py:102: SyntaxWarning: invalid escape sequence '\\s'\n",
      "/home/codespace/.local/lib/python3.12/site-packages/ee_extra-0.0.15-py3.12.egg/ee_extra/JavaScript/translate_main.py:108: SyntaxWarning: invalid escape sequence '\\?'\n",
      "/home/codespace/.local/lib/python3.12/site-packages/ee_extra-0.0.15-py3.12.egg/ee_extra/JavaScript/translate_main.py:143: SyntaxWarning: invalid escape sequence '\\s'\n",
      "/home/codespace/.local/lib/python3.12/site-packages/ee_extra-0.0.15-py3.12.egg/ee_extra/JavaScript/translate_main.py:175: SyntaxWarning: invalid escape sequence '\\.'\n",
      "/home/codespace/.local/lib/python3.12/site-packages/ee_extra-0.0.15-py3.12.egg/ee_extra/JavaScript/translate_main.py:176: SyntaxWarning: invalid escape sequence '\\.'\n",
      "/home/codespace/.local/lib/python3.12/site-packages/ee_extra-0.0.15-py3.12.egg/ee_extra/JavaScript/translate_main.py:177: SyntaxWarning: invalid escape sequence '\\.'\n",
      "/home/codespace/.local/lib/python3.12/site-packages/ee_extra-0.0.15-py3.12.egg/ee_extra/JavaScript/translate_main.py:182: SyntaxWarning: invalid escape sequence '\\w'\n",
      "/home/codespace/.local/lib/python3.12/site-packages/ee_extra-0.0.15-py3.12.egg/ee_extra/JavaScript/translate_main.py:183: SyntaxWarning: invalid escape sequence '\\|'\n",
      "/home/codespace/.local/lib/python3.12/site-packages/ee_extra-0.0.15-py3.12.egg/ee_extra/JavaScript/translate_main.py:553: SyntaxWarning: invalid escape sequence '\\s'\n",
      "/home/codespace/.local/lib/python3.12/site-packages/ee_extra-0.0.15-py3.12.egg/ee_extra/JavaScript/translate_main.py:781: SyntaxWarning: invalid escape sequence '\\s'\n",
      "/home/codespace/.local/lib/python3.12/site-packages/ee_extra-0.0.15-py3.12.egg/ee_extra/JavaScript/translate_main.py:788: SyntaxWarning: invalid escape sequence '\\/'\n",
      "/home/codespace/.local/lib/python3.12/site-packages/ee_extra-0.0.15-py3.12.egg/ee_extra/JavaScript/translate_main.py:89: SyntaxWarning: invalid escape sequence '\\('\n",
      "/home/codespace/.local/lib/python3.12/site-packages/ee_extra-0.0.15-py3.12.egg/ee_extra/JavaScript/translate_main.py:98: SyntaxWarning: invalid escape sequence '\\s'\n",
      "/home/codespace/.local/lib/python3.12/site-packages/ee_extra-0.0.15-py3.12.egg/ee_extra/JavaScript/translate_main.py:102: SyntaxWarning: invalid escape sequence '\\s'\n",
      "/home/codespace/.local/lib/python3.12/site-packages/ee_extra-0.0.15-py3.12.egg/ee_extra/JavaScript/translate_main.py:108: SyntaxWarning: invalid escape sequence '\\?'\n",
      "/home/codespace/.local/lib/python3.12/site-packages/ee_extra-0.0.15-py3.12.egg/ee_extra/JavaScript/translate_main.py:143: SyntaxWarning: invalid escape sequence '\\s'\n",
      "/home/codespace/.local/lib/python3.12/site-packages/ee_extra-0.0.15-py3.12.egg/ee_extra/JavaScript/translate_main.py:175: SyntaxWarning: invalid escape sequence '\\.'\n",
      "/home/codespace/.local/lib/python3.12/site-packages/ee_extra-0.0.15-py3.12.egg/ee_extra/JavaScript/translate_main.py:176: SyntaxWarning: invalid escape sequence '\\.'\n",
      "/home/codespace/.local/lib/python3.12/site-packages/ee_extra-0.0.15-py3.12.egg/ee_extra/JavaScript/translate_main.py:177: SyntaxWarning: invalid escape sequence '\\.'\n",
      "/home/codespace/.local/lib/python3.12/site-packages/ee_extra-0.0.15-py3.12.egg/ee_extra/JavaScript/translate_main.py:182: SyntaxWarning: invalid escape sequence '\\w'\n",
      "/home/codespace/.local/lib/python3.12/site-packages/ee_extra-0.0.15-py3.12.egg/ee_extra/JavaScript/translate_main.py:183: SyntaxWarning: invalid escape sequence '\\|'\n",
      "/home/codespace/.local/lib/python3.12/site-packages/ee_extra-0.0.15-py3.12.egg/ee_extra/JavaScript/translate_main.py:553: SyntaxWarning: invalid escape sequence '\\s'\n",
      "/home/codespace/.local/lib/python3.12/site-packages/ee_extra-0.0.15-py3.12.egg/ee_extra/JavaScript/translate_main.py:781: SyntaxWarning: invalid escape sequence '\\s'\n",
      "/home/codespace/.local/lib/python3.12/site-packages/ee_extra-0.0.15-py3.12.egg/ee_extra/JavaScript/translate_main.py:788: SyntaxWarning: invalid escape sequence '\\/'\n",
      "/home/codespace/.local/lib/python3.12/site-packages/ee_extra-0.0.15-py3.12.egg/ee_extra/JavaScript/merge.py:52: SyntaxWarning: invalid escape sequence '\\*'\n",
      "/home/codespace/.local/lib/python3.12/site-packages/ee_extra-0.0.15-py3.12.egg/ee_extra/JavaScript/merge.py:71: SyntaxWarning: invalid escape sequence '\\*'\n",
      "/home/codespace/.local/lib/python3.12/site-packages/ee_extra-0.0.15-py3.12.egg/ee_extra/JavaScript/merge.py:52: SyntaxWarning: invalid escape sequence '\\*'\n",
      "/home/codespace/.local/lib/python3.12/site-packages/ee_extra-0.0.15-py3.12.egg/ee_extra/JavaScript/merge.py:71: SyntaxWarning: invalid escape sequence '\\*'\n"
     ]
    },
    {
     "ename": "FileNotFoundError",
     "evalue": "[Errno 2] No such file or directory: '/home/codespace/.cache/Python-Eggs/spyndex-0.6.0-py3.12.egg-tmp/spyndex/data/spectral-indices-dict.json'",
     "output_type": "error",
     "traceback": [
      "\u001b[0;31m---------------------------------------------------------------------------\u001b[0m",
      "\u001b[0;31mFileNotFoundError\u001b[0m                         Traceback (most recent call last)",
      "Cell \u001b[0;32mIn[4], line 1\u001b[0m\n\u001b[0;32m----> 1\u001b[0m \u001b[38;5;28;01mfrom\u001b[39;00m \u001b[38;5;21;01mearthdaily\u001b[39;00m \u001b[38;5;28;01mimport\u001b[39;00m EarthDataStore\n",
      "File \u001b[0;32m/workspaces/earthdaily-python-client/earthdaily/__init__.py:4\u001b[0m\n\u001b[1;32m      2\u001b[0m \u001b[38;5;28;01mfrom\u001b[39;00m \u001b[38;5;21;01mpathlib\u001b[39;00m \u001b[38;5;28;01mimport\u001b[39;00m Path\n\u001b[1;32m      3\u001b[0m \u001b[38;5;28;01mfrom\u001b[39;00m \u001b[38;5;21;01m.\u001b[39;00m \u001b[38;5;28;01mimport\u001b[39;00m earthdatastore, datasets\n\u001b[0;32m----> 4\u001b[0m \u001b[38;5;28;01mfrom\u001b[39;00m \u001b[38;5;21;01m.\u001b[39;00m\u001b[38;5;21;01maccessor\u001b[39;00m \u001b[38;5;28;01mimport\u001b[39;00m EarthDailyAccessorDataArray, EarthDailyAccessorDataset\n\u001b[1;32m      6\u001b[0m \u001b[38;5;66;03m# import warnings\u001b[39;00m\n\u001b[1;32m      7\u001b[0m \u001b[38;5;66;03m# to hide warnings from rioxarray or nano seconds conversion\u001b[39;00m\n\u001b[1;32m      8\u001b[0m \u001b[38;5;66;03m# warnings.filterwarnings(\"ignore\")\u001b[39;00m\n\u001b[1;32m     10\u001b[0m __version__ \u001b[38;5;241m=\u001b[39m \u001b[38;5;124m\"\u001b[39m\u001b[38;5;124m0.3.1\u001b[39m\u001b[38;5;124m\"\u001b[39m\n",
      "File \u001b[0;32m/workspaces/earthdaily-python-client/earthdaily/accessor/__init__.py:9\u001b[0m\n\u001b[1;32m      7\u001b[0m \u001b[38;5;28;01mfrom\u001b[39;00m \u001b[38;5;21;01mshapely\u001b[39;00m\u001b[38;5;21;01m.\u001b[39;00m\u001b[38;5;21;01mgeometry\u001b[39;00m \u001b[38;5;28;01mimport\u001b[39;00m Point\n\u001b[1;32m      8\u001b[0m \u001b[38;5;28;01mfrom\u001b[39;00m \u001b[38;5;21;01mdask\u001b[39;00m \u001b[38;5;28;01mimport\u001b[39;00m array \u001b[38;5;28;01mas\u001b[39;00m da\n\u001b[0;32m----> 9\u001b[0m \u001b[38;5;28;01mimport\u001b[39;00m \u001b[38;5;21;01mspyndex\u001b[39;00m\n\u001b[1;32m     10\u001b[0m \u001b[38;5;28;01mfrom\u001b[39;00m \u001b[38;5;21;01mdask_image\u001b[39;00m \u001b[38;5;28;01mimport\u001b[39;00m ndfilters \u001b[38;5;28;01mas\u001b[39;00m dask_ndimage\n\u001b[1;32m     11\u001b[0m \u001b[38;5;28;01mfrom\u001b[39;00m \u001b[38;5;21;01mscipy\u001b[39;00m \u001b[38;5;28;01mimport\u001b[39;00m ndimage\n",
      "File \u001b[0;32m~/.local/lib/python3.12/site-packages/spyndex-0.6.0-py3.12.egg/spyndex/__init__.py:8\u001b[0m\n\u001b[1;32m      5\u001b[0m __all__ \u001b[38;5;241m=\u001b[39m []\n\u001b[1;32m      7\u001b[0m \u001b[38;5;28;01mfrom\u001b[39;00m \u001b[38;5;21;01m.\u001b[39;00m \u001b[38;5;28;01mimport\u001b[39;00m datasets, plot\n\u001b[0;32m----> 8\u001b[0m \u001b[38;5;28;01mfrom\u001b[39;00m \u001b[38;5;21;01m.\u001b[39;00m\u001b[38;5;21;01maxioms\u001b[39;00m \u001b[38;5;28;01mimport\u001b[39;00m bands, constants, indices\n\u001b[1;32m      9\u001b[0m \u001b[38;5;28;01mfrom\u001b[39;00m \u001b[38;5;21;01m.\u001b[39;00m\u001b[38;5;21;01mspyndex\u001b[39;00m \u001b[38;5;28;01mimport\u001b[39;00m \u001b[38;5;241m*\u001b[39m\n",
      "File \u001b[0;32m~/.local/lib/python3.12/site-packages/spyndex-0.6.0-py3.12.egg/spyndex/axioms.py:171\u001b[0m\n\u001b[1;32m    166\u001b[0m         indices_class[key] \u001b[38;5;241m=\u001b[39m SpectralIndex(value)\n\u001b[1;32m    168\u001b[0m     \u001b[38;5;28;01mreturn\u001b[39;00m SpectralIndices(indices_class, frozen_box\u001b[38;5;241m=\u001b[39m\u001b[38;5;28;01mTrue\u001b[39;00m)\n\u001b[0;32m--> 171\u001b[0m indices \u001b[38;5;241m=\u001b[39m \u001b[43m_create_indices\u001b[49m\u001b[43m(\u001b[49m\u001b[43m)\u001b[49m\n\u001b[1;32m    174\u001b[0m \u001b[38;5;28;01mclass\u001b[39;00m \u001b[38;5;21;01mBands\u001b[39;00m(Box):\n\u001b[1;32m    175\u001b[0m \u001b[38;5;250m    \u001b[39m\u001b[38;5;124;03m\"\"\"Bands object.\u001b[39;00m\n\u001b[1;32m    176\u001b[0m \n\u001b[1;32m    177\u001b[0m \u001b[38;5;124;03m    This object allows interaction with the list of bands required for the Spectral\u001b[39;00m\n\u001b[0;32m   (...)\u001b[0m\n\u001b[1;32m    189\u001b[0m \u001b[38;5;124;03m    Constants(['L', 'g', 'C1', ..., 'sigma', 'p', 'c'])\u001b[39;00m\n\u001b[1;32m    190\u001b[0m \u001b[38;5;124;03m    \"\"\"\u001b[39;00m\n",
      "File \u001b[0;32m~/.local/lib/python3.12/site-packages/spyndex-0.6.0-py3.12.egg/spyndex/axioms.py:163\u001b[0m, in \u001b[0;36m_create_indices\u001b[0;34m()\u001b[0m\n\u001b[1;32m    160\u001b[0m \u001b[38;5;28;01mdef\u001b[39;00m \u001b[38;5;21m_create_indices\u001b[39m():\n\u001b[1;32m    161\u001b[0m \u001b[38;5;250m    \u001b[39m\u001b[38;5;124;03m\"\"\"Creates the set of Spectral Indices locally available.\"\"\"\u001b[39;00m\n\u001b[0;32m--> 163\u001b[0m     indices \u001b[38;5;241m=\u001b[39m \u001b[43m_get_indices\u001b[49m\u001b[43m(\u001b[49m\u001b[38;5;28;43;01mFalse\u001b[39;49;00m\u001b[43m)\u001b[49m\n\u001b[1;32m    164\u001b[0m     indices_class \u001b[38;5;241m=\u001b[39m {}\n\u001b[1;32m    165\u001b[0m     \u001b[38;5;28;01mfor\u001b[39;00m key, value \u001b[38;5;129;01min\u001b[39;00m indices\u001b[38;5;241m.\u001b[39mitems():\n",
      "File \u001b[0;32m~/.local/lib/python3.12/site-packages/spyndex-0.6.0-py3.12.egg/spyndex/utils.py:50\u001b[0m, in \u001b[0;36m_get_indices\u001b[0;34m(online)\u001b[0m\n\u001b[1;32m     46\u001b[0m     indices \u001b[38;5;241m=\u001b[39m requests\u001b[38;5;241m.\u001b[39mget(\n\u001b[1;32m     47\u001b[0m         \u001b[38;5;124m\"\u001b[39m\u001b[38;5;124mhttps://raw.githubusercontent.com/awesome-spectral-indices/awesome-spectral-indices/main/output/spectral-indices-dict.json\u001b[39m\u001b[38;5;124m\"\u001b[39m\n\u001b[1;32m     48\u001b[0m     )\u001b[38;5;241m.\u001b[39mjson()\n\u001b[1;32m     49\u001b[0m \u001b[38;5;28;01melse\u001b[39;00m:\n\u001b[0;32m---> 50\u001b[0m     indices \u001b[38;5;241m=\u001b[39m \u001b[43m_load_JSON\u001b[49m\u001b[43m(\u001b[49m\u001b[43m)\u001b[49m\n\u001b[1;32m     52\u001b[0m \u001b[38;5;28;01mreturn\u001b[39;00m indices[\u001b[38;5;124m\"\u001b[39m\u001b[38;5;124mSpectralIndices\u001b[39m\u001b[38;5;124m\"\u001b[39m]\n",
      "File \u001b[0;32m~/.local/lib/python3.12/site-packages/spyndex-0.6.0-py3.12.egg/spyndex/utils.py:27\u001b[0m, in \u001b[0;36m_load_JSON\u001b[0;34m(file)\u001b[0m\n\u001b[1;32m     23\u001b[0m spyndexDir \u001b[38;5;241m=\u001b[39m os\u001b[38;5;241m.\u001b[39mpath\u001b[38;5;241m.\u001b[39mdirname(\n\u001b[1;32m     24\u001b[0m     pkg_resources\u001b[38;5;241m.\u001b[39mresource_filename(\u001b[38;5;124m\"\u001b[39m\u001b[38;5;124mspyndex\u001b[39m\u001b[38;5;124m\"\u001b[39m, \u001b[38;5;124m\"\u001b[39m\u001b[38;5;124mspyndex.py\u001b[39m\u001b[38;5;124m\"\u001b[39m)\n\u001b[1;32m     25\u001b[0m )\n\u001b[1;32m     26\u001b[0m dataPath \u001b[38;5;241m=\u001b[39m os\u001b[38;5;241m.\u001b[39mpath\u001b[38;5;241m.\u001b[39mjoin(spyndexDir, \u001b[38;5;124m\"\u001b[39m\u001b[38;5;124mdata/\u001b[39m\u001b[38;5;124m\"\u001b[39m \u001b[38;5;241m+\u001b[39m file)\n\u001b[0;32m---> 27\u001b[0m f \u001b[38;5;241m=\u001b[39m \u001b[38;5;28;43mopen\u001b[39;49m\u001b[43m(\u001b[49m\u001b[43mdataPath\u001b[49m\u001b[43m)\u001b[49m\n\u001b[1;32m     28\u001b[0m \u001b[38;5;28;01mreturn\u001b[39;00m json\u001b[38;5;241m.\u001b[39mload(f)\n",
      "\u001b[0;31mFileNotFoundError\u001b[0m: [Errno 2] No such file or directory: '/home/codespace/.cache/Python-Eggs/spyndex-0.6.0-py3.12.egg-tmp/spyndex/data/spectral-indices-dict.json'"
     ]
    }
   ],
   "source": [
    "from earthdaily import EarthDataStore"
   ]
  },
  {
   "cell_type": "code",
   "execution_count": null,
   "metadata": {},
   "outputs": [],
   "source": []
  }
 ],
 "metadata": {
  "kernelspec": {
   "display_name": "Python 3",
   "language": "python",
   "name": "python3"
  },
  "language_info": {
   "codemirror_mode": {
    "name": "ipython",
    "version": 3
   },
   "file_extension": ".py",
   "mimetype": "text/x-python",
   "name": "python",
   "nbconvert_exporter": "python",
   "pygments_lexer": "ipython3",
   "version": "3.12.1"
  }
 },
 "nbformat": 4,
 "nbformat_minor": 2
}
