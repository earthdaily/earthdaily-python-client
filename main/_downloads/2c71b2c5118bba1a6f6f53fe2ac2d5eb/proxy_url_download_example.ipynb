{
  "cells": [
    {
      "cell_type": "markdown",
      "metadata": {},
      "source": [
        "\n# Proxy URL Download Example\n\nThis example demonstrates how to use proxy URLs for downloading assets from STAC items.\n\nProxy URLs are non-expiring URLs that require authentication headers and redirect (307)\nto the final download URL. They are only available for specific collections.\n\nProxy URL mode is automatically enabled when using AssetAccessMode.PROXY_URLS in your config.\n\nFeatures demonstrated:\n- Configuring proxy URL mode via AssetAccessMode.PROXY_URLS\n- Automatic authentication with proxy URLs\n- Automatic handling of redirects for proxy URLs\n\nRequirements:\n- Set your EDS credentials as environment variables or in a .env file\n- Install with platform support: pip install 'earthdaily[platform]'\n"
      ]
    },
    {
      "cell_type": "code",
      "execution_count": null,
      "metadata": {
        "collapsed": false
      },
      "outputs": [],
      "source": [
        "from pathlib import Path\n\n# Load environment variables from .env file\ntry:\n    from dotenv import load_dotenv\n\n    load_dotenv()\nexcept ImportError:\n    print(\"\ud83d\udca1 Consider installing python-dotenv to automatically load .env files:\")\n    print(\"   pip install python-dotenv\")\n\nfrom earthdaily import EDSClient, EDSConfig\nfrom earthdaily._eds_config import AssetAccessMode\nfrom earthdaily.exceptions import EDSAPIError\n\n\ndef initialize_client():\n    \"\"\"Initialize the EarthDaily API client with proxy URLs enabled.\"\"\"\n    print(\"\ud83d\ude80 Initializing EarthDaily Client for Proxy URLs...\")\n\n    config = EDSConfig(asset_access_mode=AssetAccessMode.PROXY_URLS)\n    client = EDSClient(config)\n    print(\"\u2705 Client initialized successfully with proxy URL support!\")\n    return client\n\n\ndef search_for_proxy_items(client, max_items=2):\n    \"\"\"Search for STAC items in a collection that supports proxy URLs.\"\"\"\n    collection = \"ai-ready-mosaics-sample\"\n    print(f\"\\n\ud83d\udd0d Searching for {collection} items (proxy URL enabled collection)...\")\n\n    try:\n        search_result = client.platform.pystac_client.search(\n            collections=[collection],\n            max_items=max_items,\n        )\n\n        items = list(search_result.items())\n        print(f\"\u2705 Found {len(items)} items\")\n\n        for i, item in enumerate(items, 1):\n            print(f\"   {i}. {item.id}\")\n            print(f\"      Date: {item.datetime}\")\n            print(f\"      Available assets: {len(item.assets)}\")\n\n        return items\n\n    except EDSAPIError as e:\n        print(f\"\u274c Error searching for items: {e}\")\n        return []\n    except Exception as e:\n        print(f\"\ud83d\udca5 Unexpected error: {e}\")\n        return []\n\n\ndef download_with_proxy_urls(client, item, asset_keys, output_dir):\n    \"\"\"Download assets using proxy URLs.\"\"\"\n    print(\"\\n\ud83d\udd04 Downloading with Proxy URLs...\")\n    print(f\"   Assets: {asset_keys}\")\n    print(f\"   Output: {output_dir}\")\n\n    try:\n        # Ensure output directory exists\n        output_path = Path(output_dir)\n        output_path.mkdir(parents=True, exist_ok=True)\n\n        # Download using proxy URLs (automatically detected from config)\n        result = client.platform.stac_item.download_assets(\n            item=item,\n            asset_keys=asset_keys,\n            output_dir=output_path,\n            max_workers=1,\n        )\n\n        print(\"\u2705 Proxy URL download completed!\")\n\n        # Show downloaded files\n        if result:\n            print(\"   Downloaded files:\")\n            for asset_key, file_path in result.items():\n                if file_path and file_path.exists():\n                    size_mb = file_path.stat().st_size / (1024 * 1024)\n                    print(f\"     - {asset_key}: {file_path.name} ({size_mb:.1f} MB)\")\n\n        return True\n\n    except Exception as e:\n        print(f\"\u274c Proxy URL download failed: {e}\")\n        return False\n\n\ndef main():\n    \"\"\"Main function demonstrating proxy URL downloads.\"\"\"\n    try:\n        print(\"\ud83d\udd04 EarthDaily Proxy URL Download Example\")\n        print(\"=\" * 60)\n        print(\"\\nThis example demonstrates downloading assets using proxy URLs.\")\n        print(\"Proxy URLs are automatically enabled via AssetAccessMode.PROXY_URLS config.\")\n        print(\"They are non-expiring but require authentication headers.\")\n        print(\"Proxy URLs are only available for specific collections.\")\n\n        # Initialize client\n        client = initialize_client()\n\n        # Search for items in proxy-enabled collection\n        items = search_for_proxy_items(client, max_items=1)\n\n        if not items:\n            print(\"\u274c No items found in proxy-enabled collection\")\n            return\n\n        item = items[0]\n\n        # Show item information\n        print(\"\\n\ud83d\udccb Item Information:\")\n        print(f\"   Item ID: {item.id}\")\n        print(f\"   Date: {item.datetime}\")\n        asset_names = list(item.assets.keys())[:5]\n        print(f\"   Available assets: {asset_names}\")\n\n        # Get available assets (use first few for demo)\n        available_assets = list(item.assets.keys())[:2]\n\n        if not available_assets:\n            print(\"\u274c No assets available for download\")\n            return\n\n        print(f\"\\n\ud83c\udfaf Downloading assets using proxy URLs: {available_assets}\")\n\n        # Download using proxy URLs\n        output_dir = Path.home() / \"Downloads\" / \"earthdaily_proxy_demo\"\n        download_with_proxy_urls(client, item, available_assets, output_dir)\n\n        print(\"\\n\ud83c\udf89 Proxy URL download demonstration completed!\")\n        print(f\"\ud83d\udca1 Files saved to: {output_dir}\")\n        print(\"\\n\ud83d\udccb About Proxy URLs:\")\n        print(\"   \u2022 Non-expiring URLs that require authentication headers\")\n        print(\"   \u2022 Redirect (307) to the final download URL\")\n        print(\"   \u2022 Only available for specific collections like 'ai-ready-mosaics-sample'\")\n        print(\"   \u2022 Automatically enabled when using AssetAccessMode.PROXY_URLS config\")\n\n    except KeyboardInterrupt:\n        print(\"\\n\\n\u26a0\ufe0f  Demo interrupted by user\")\n    except ImportError as e:\n        print(f\"\\n\u274c Import Error: {e}\")\n        print(\"\ud83d\udca1 Make sure to install with platform support:\")\n        print(\"   pip install 'earthdaily[platform]'\")\n    except Exception as e:\n        print(f\"\\n\ud83d\udca5 Unexpected error: {e}\")\n        print(\"\\n\ud83d\udca1 Make sure you have set your EDS credentials as environment variables:\")\n        print(\"   EDS_CLIENT_ID, EDS_SECRET, EDS_AUTH_URL, EDS_API_URL\")\n\n\nif __name__ == \"__main__\":\n    main()"
      ]
    }
  ],
  "metadata": {
    "kernelspec": {
      "display_name": "Python 3",
      "language": "python",
      "name": "python3"
    },
    "language_info": {
      "codemirror_mode": {
        "name": "ipython",
        "version": 3
      },
      "file_extension": ".py",
      "mimetype": "text/x-python",
      "name": "python",
      "nbconvert_exporter": "python",
      "pygments_lexer": "ipython3",
      "version": "3.12.11"
    }
  },
  "nbformat": 4,
  "nbformat_minor": 0
}