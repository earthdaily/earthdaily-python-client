{
  "cells": [
    {
      "cell_type": "markdown",
      "metadata": {},
      "source": [
        "\n# Quick Start Example\n\nThis example demonstrates how to use the EarthDaily Python client v1\nto search for and work with STAC items.\n\nFeatures demonstrated:\n- Client initialization with environment variables\n- Searching for STAC items\n- Basic error handling\n- Asset information access\n\nRequirements:\n- Set your EDS credentials as environment variables or in a .env file:\n  EDS_CLIENT_ID, EDS_SECRET, EDS_AUTH_URL, EDS_API_URL\n"
      ]
    },
    {
      "cell_type": "code",
      "execution_count": null,
      "metadata": {
        "collapsed": false
      },
      "outputs": [],
      "source": [
        "# Load environment variables from .env file\ntry:\n    from dotenv import load_dotenv\n\n    load_dotenv()\nexcept ImportError:\n    print(\"\ud83d\udca1 Consider installing python-dotenv to automatically load .env files:\")\n    print(\"   pip install python-dotenv\")\n\nfrom earthdaily import EDSClient, EDSConfig\nfrom earthdaily.exceptions import EDSAPIError\n\n\ndef initialize_client():\n    \"\"\"Initialize the EarthDaily API client with environment variables.\"\"\"\n    print(\"\ud83d\ude80 Initializing EarthDaily Client...\")\n\n    # EDSConfig will automatically read from environment variables:\n    # EDS_CLIENT_ID, EDS_SECRET, EDS_AUTH_URL, EDS_API_URL\n    config = EDSConfig()\n    client = EDSClient(config)\n\n    print(\"\u2705 Client initialized successfully!\")\n    return client\n\n\ndef search_stac_items(client):\n    \"\"\"Search for STAC items using the platform API.\"\"\"\n    try:\n        print(\"\\n\ud83d\udd0d Searching for Sentinel-2 L2A items...\")\n\n        # Search for recent Sentinel-2 items with cloud mask available\n        search_result = client.platform.pystac_client.search(\n            collections=[\"sentinel-2-l2a\"],\n            query={\"eda:ag_cloud_mask_available\": {\"eq\": True}},\n            datetime=\"2024-06-01T00:00:00Z/2024-08-01T00:00:00Z\",\n            max_items=5,  # Limit results for demo\n        )\n\n        items = list(search_result.items())\n        print(f\"\\n\ud83c\udf0d Found {len(items)} STAC items:\")\n\n        for i, item in enumerate(items, 1):\n            print(f\"  {i}. {item.id}\")\n            print(f\"     Date: {item.datetime}\")\n            print(f\"     Cloud cover: {item.properties.get('eo:cloud_cover', 'N/A')}%\")\n            print(f\"     Assets: {len(item.assets)} available\")\n\n            # Show some key assets\n            key_assets = [\"red\", \"green\", \"blue\", \"nir\", \"visual\", \"thumbnail\"]\n            available_key_assets = [asset for asset in key_assets if asset in item.assets]\n            if available_key_assets:\n                print(f\"     Key assets: {', '.join(available_key_assets)}\")\n            print()\n\n        return items\n\n    except EDSAPIError as e:\n        print(f\"\\n\u274c API error: {e}\")\n        print(f\"   Status Code: {e.status_code}\")\n        print(f\"   Details: {e.body}\")\n        return []\n    except Exception as e:\n        print(f\"\\n\ud83d\udca5 Unexpected error while searching: {e}\")\n        return []\n\n\ndef explore_item_details(item):\n    \"\"\"Explore details of a STAC item.\"\"\"\n    print(f\"\\n\ud83d\udd0d Exploring item: {item.id}\")\n    print(f\"   Collection: {item.collection_id}\")\n    print(f\"   Geometry type: {item.geometry['type']}\")\n    print(f\"   Bounding box: {item.bbox}\")\n\n    # Show properties\n    print(\"\\n   Key properties:\")\n    key_props = [\"datetime\", \"eo:cloud_cover\", \"gsd\", \"platform\", \"constellation\"]\n    for prop in key_props:\n        if prop in item.properties:\n            print(f\"     {prop}: {item.properties[prop]}\")\n\n    # Show available assets\n    print(f\"\\n   Available assets ({len(item.assets)}):\")\n    for asset_name, asset in item.assets.items():\n        print(f\"     {asset_name}: {asset.media_type or 'Unknown type'}\")\n        if hasattr(asset, \"extra_fields\") and \"gsd\" in asset.extra_fields:\n            print(f\"       Resolution: {asset.extra_fields['gsd']}m\")\n\n\ndef main():\n    \"\"\"Main function to demonstrate the quick start workflow.\"\"\"\n    try:\n        # Initialize client\n        client = initialize_client()\n\n        # Search for items\n        items = search_stac_items(client)\n\n        if items:\n            # Explore the first item in detail\n            explore_item_details(items[0])\n\n            print(\"\\n\u2728 Quick start completed successfully!\")\n            print(f\"   Found {len(items)} items to work with.\")\n            print(\"   Try the other examples to learn about:\")\n            print(\"   - Creating datacubes (datacube_example.py)\")\n            print(\"   - Downloading assets (asset_download_example.py)\")\n            print(\"   - Bulk operations (bulk_search_example.py)\")\n        else:\n            print(\"\\n\u274c No items found. Check your search parameters and try again.\")\n\n    except Exception as e:\n        print(f\"\\n\ud83d\udca5 Error in main workflow: {e}\")\n        print(\"\\n\ud83d\udca1 Make sure you have set your EDS credentials as environment variables:\")\n        print(\"   EDS_CLIENT_ID, EDS_SECRET, EDS_AUTH_URL, EDS_API_URL\")\n\n\nif __name__ == \"__main__\":\n    main()"
      ]
    }
  ],
  "metadata": {
    "kernelspec": {
      "display_name": "Python 3",
      "language": "python",
      "name": "python3"
    },
    "language_info": {
      "codemirror_mode": {
        "name": "ipython",
        "version": 3
      },
      "file_extension": ".py",
      "mimetype": "text/x-python",
      "name": "python",
      "nbconvert_exporter": "python",
      "pygments_lexer": "ipython3",
      "version": "3.12.11"
    }
  },
  "nbformat": 4,
  "nbformat_minor": 0
}