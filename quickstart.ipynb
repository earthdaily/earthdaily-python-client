{
 "cells": [
  {
   "cell_type": "markdown",
   "metadata": {},
   "source": [
    "[![Open In Colab](https://colab.research.google.com/assets/colab-badge.svg)](https://colab.research.google.com/github/robmarkcole/earthdaily-python-client/blob/update-documentation/quickstart.ipynb)"
   ]
  },
  {
   "cell_type": "code",
   "execution_count": null,
   "metadata": {},
   "outputs": [],
   "source": [
    "# !pip install earthdaily"
   ]
  },
  {
   "cell_type": "markdown",
   "metadata": {},
   "source": [
    "Upload your `.env` file to the studio"
   ]
  },
  {
   "cell_type": "code",
   "execution_count": 2,
   "metadata": {},
   "outputs": [],
   "source": [
    "from dotenv import load_dotenv\n",
    "assert load_dotenv(\".env\")"
   ]
  },
  {
   "cell_type": "code",
   "execution_count": 3,
   "metadata": {},
   "outputs": [],
   "source": [
    "from earthdaily import EarthDataStore"
   ]
  },
  {
   "cell_type": "code",
   "execution_count": 4,
   "metadata": {},
   "outputs": [],
   "source": [
    "eds = EarthDataStore()"
   ]
  },
  {
   "cell_type": "markdown",
   "metadata": {},
   "source": [
    "List available collections"
   ]
  },
  {
   "cell_type": "code",
   "execution_count": 6,
   "metadata": {},
   "outputs": [
    {
     "data": {
      "text/plain": [
       "['ai-ready-mosaics',\n",
       " 'ai-ready-mosaics-preview',\n",
       " 'ai-ready-mosaics-sample',\n",
       " 'alsat-1b-l2a-cog-edagro',\n",
       " 'alsat-1b-l2a-cog-edagro-ag-cloud-mask',\n",
       " 'building-changes-map',\n",
       " 'cbers-4-l2a-cog-edagro',\n",
       " 'cbers-4-l2a-cog-edagro-ag-cloud-mask',\n",
       " 'cbers4-mux',\n",
       " 'cbers4-mux-clip',\n",
       " 'cbers4-mux-l1c',\n",
       " 'cropland-data-layer-us',\n",
       " 'deimos-1-l2a-cog-edagro',\n",
       " 'deimos-1-l2a-cog-edagro-ag-cloud-mask',\n",
       " 'deimos-l2a-cog-edagro',\n",
       " 'deimos-l2a-cog-edagro-ag-cloud-mask',\n",
       " 'deimos1-catalog',\n",
       " 'deimos1-l1c',\n",
       " 'dmc-l2a-cog-edagro',\n",
       " 'dmc-l2a-cog-edagro-ag-cloud-mask',\n",
       " 'dove-psb-sd-boa',\n",
       " 'earthdaily-simulated-cloudless-l2a-cog-edagro',\n",
       " 'earthdaily-simulated-l2a-cog-edagro',\n",
       " 'earthdaily-simulated-l2a-cog-edagro-ag-cloud-mask',\n",
       " 'ecmwf-mars',\n",
       " 'ecmwf-open-data',\n",
       " 'ecostress-eco-l2t-lste-002',\n",
       " 'eda-albedo-map',\n",
       " 'eda-analysis-ready-mosaic',\n",
       " 'eda-brightness-invariant',\n",
       " 'eda-calibration-sites',\n",
       " 'eda-cross-calibration',\n",
       " 'eda-dem',\n",
       " 'eda-geoid',\n",
       " 'eda-landcover',\n",
       " 'eda-reference-image',\n",
       " 'eda-water-mask',\n",
       " 'edagro-analytics-crop-mask-in-season',\n",
       " 'edagro-analytics-crops-layer',\n",
       " 'edagro-analytics-field-borders-layer',\n",
       " 'edagro-analytics-field-boundaries',\n",
       " 'edagro-landsat-cross-cal-coefficient',\n",
       " 'edc-daily-acquisition-requests',\n",
       " 'edc-data-acquisition-plan',\n",
       " 'esa-worldcover-landcover-2020-v100',\n",
       " 'esa-worldcover-landcover-2021-v200',\n",
       " 'esa-worldcover-s1-vvvhratio-2020-v100',\n",
       " 'esa-worldcover-s1-vvvhratio-2021-v200',\n",
       " 'esa-worldcover-s2-nvdi-2020-v100',\n",
       " 'esa-worldcover-s2-nvdi-2021-v200',\n",
       " 'esa-worldcover-s2-rgbnir-2020-v100',\n",
       " 'esa-worldcover-s2-rgbnir-2021-v200',\n",
       " 'esa-worldcover-s2-swir-2020-v100',\n",
       " 'esa-worldcover-s2-swir-2021-v200',\n",
       " 'gaofen-1-l2a-cog-edagro',\n",
       " 'gaofen-1-l2a-cog-edagro-ag-cloud-mask',\n",
       " 'gaofen-6-l2a-cog-edagro',\n",
       " 'gaofen-6-l2a-cog-edagro-ag-cloud-mask',\n",
       " 'goes',\n",
       " 'himawari-l1b',\n",
       " 'himawari-l2-cloud',\n",
       " 'huanjing-2-l2a-cog-edagro',\n",
       " 'huanjing-2-l2a-cog-edagro-ag-cloud-mask',\n",
       " 'jilin-1-cog-edagro',\n",
       " 'jilin-1-cog-edagro-ag-cloud-mask',\n",
       " 'kazstsat-l2a-cog-edagro',\n",
       " 'kazstsat-l2a-cog-edagro-ag-cloud-mask',\n",
       " 'landsat-c2l1',\n",
       " 'landsat-c2l1-data-coverage',\n",
       " 'landsat-c2l2-sr',\n",
       " 'landsat-c2l2-st',\n",
       " 'landsat-l2-cog-ag-cloud-mask',\n",
       " 'lulc-classification-map',\n",
       " 'modis-43A4-061',\n",
       " 'modis-aqua-calibrated-radiance',\n",
       " 'modis-calibrated-radiance',\n",
       " 'modis-mod04-l2-061',\n",
       " 'modis-mod07-l2-061',\n",
       " 'modis-mod11-l2-061',\n",
       " 'modis-mod11a2-061',\n",
       " 'modis-mod21-l2-061',\n",
       " 'modis-mod21a2-061',\n",
       " 'modis-mod35-l2-061',\n",
       " 'modis-myd11-l2-061',\n",
       " 'modis-myd11a2-061',\n",
       " 'modis-myd21-l2-061',\n",
       " 'modis-myd21a2-061',\n",
       " 'modis-myd35-l2-061',\n",
       " 'mrc-catalog',\n",
       " 'mrc-l1c',\n",
       " 'msg-seviri',\n",
       " 'msg-seviri-cloud-mask',\n",
       " 'nst-observer-catalog',\n",
       " 'nst-observer-l1c',\n",
       " 'nst-observer-l2a',\n",
       " 'palsar-catalog',\n",
       " 'palsar-grd',\n",
       " 'public-crop-mask',\n",
       " 'resourcesat-2-l2a-cog-edagro',\n",
       " 'resourcesat-2-l2a-cog-edagro-ag-cloud-mask',\n",
       " 'sentinel-1-grd',\n",
       " 'sentinel-1-rtc',\n",
       " 'sentinel-2-c1-l2a',\n",
       " 'sentinel-2-c1-l2a-data-coverage',\n",
       " 'sentinel-2-eda-cloud-mask',\n",
       " 'sentinel-2-eda-cloud-mask-data-coverage',\n",
       " 'sentinel-2-l1c',\n",
       " 'sentinel-2-l1c-data-coverage',\n",
       " 'sentinel-2-l1c-ml-cloud-mask',\n",
       " 'sentinel-2-l2a',\n",
       " 'sentinel-2-l2a-cog-ag-cloud-mask',\n",
       " 'sentinel-2-l2a-cog-ag-cloud-mask-geosys-private',\n",
       " 'sentinel-2-l2a-data-coverage',\n",
       " 'sentinel-2-methane-product',\n",
       " 'simedc-ai-ready-data',\n",
       " 'simedc-ai-ready-data-clip',\n",
       " 'simedc-analysis-ready-data',\n",
       " 'simedc-analysis-ready-data-clip',\n",
       " 'simedc-quick-ortho',\n",
       " 'simedc-quick-ortho-clip',\n",
       " 'simedc-swir-catalog',\n",
       " 'simedc-swir-catalog-data-coverage',\n",
       " 'simedc-swir-l1c',\n",
       " 'simedc-swir-l1c-clip',\n",
       " 'simedc-swir-l2a',\n",
       " 'simedc-swir-l2a-clip',\n",
       " 'simedc-tir-catalog',\n",
       " 'simedc-tir-l1c',\n",
       " 'simedc-tir-l1c-clip',\n",
       " 'simedc-visual-nrg',\n",
       " 'simedc-visual-nrg-clip',\n",
       " 'simedc-visual-rgb',\n",
       " 'simedc-visual-rgb-clip',\n",
       " 'simedc-vnir-catalog',\n",
       " 'simedc-vnir-catalog-data-coverage',\n",
       " 'simedc-vnir-l1c',\n",
       " 'simedc-vnir-l1c-clip',\n",
       " 'simedc-vnir-l2a',\n",
       " 'simedc-vnir-l2a-clip',\n",
       " 'typha-classification-map',\n",
       " 'venus-l2a',\n",
       " 'venus-l2a-clip',\n",
       " 'viirs-vj121-002',\n",
       " 'viirs-vj121a1d-002',\n",
       " 'viirs-vj121a1n-002',\n",
       " 'viirs-vj121a2-002',\n",
       " 'viirs-vnp21-002',\n",
       " 'viirs-vnp21a1d-002',\n",
       " 'viirs-vnp21a1n-002',\n",
       " 'viirs-vnp21a2-002',\n",
       " 'worldview-cog-edagro',\n",
       " 'worldview-cog-edagro-ag-cloud-mask',\n",
       " 'zy-1-cog-edagro',\n",
       " 'zy-1-cog-edagro-ag-cloud-mask']"
      ]
     },
     "execution_count": 6,
     "metadata": {},
     "output_type": "execute_result"
    }
   ],
   "source": [
    "eds.explore()"
   ]
  },
  {
   "cell_type": "code",
   "execution_count": null,
   "metadata": {},
   "outputs": [],
   "source": []
  }
 ],
 "metadata": {
  "kernelspec": {
   "display_name": "Python 3",
   "language": "python",
   "name": "python3"
  },
  "language_info": {
   "codemirror_mode": {
    "name": "ipython",
    "version": 3
   },
   "file_extension": ".py",
   "mimetype": "text/x-python",
   "name": "python",
   "nbconvert_exporter": "python",
   "pygments_lexer": "ipython3",
   "version": "3.12.1"
  }
 },
 "nbformat": 4,
 "nbformat_minor": 2
}
