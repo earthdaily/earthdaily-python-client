{
  "cells": [
    {
      "cell_type": "markdown",
      "metadata": {},
      "source": [
        "\n# Create a multisensor cube\n\nWith Sentinel-2 and Landsat, using Sentinel-2 spatial resolution.\n"
      ]
    },
    {
      "cell_type": "markdown",
      "metadata": {},
      "source": [
        "## Import librairies\n\n"
      ]
    },
    {
      "cell_type": "code",
      "execution_count": null,
      "metadata": {
        "collapsed": false
      },
      "outputs": [],
      "source": [
        "from matplotlib import pyplot as plt\n\nfrom earthdaily import EarthDataStore, datasets"
      ]
    },
    {
      "cell_type": "markdown",
      "metadata": {},
      "source": [
        "## Set parameters\n\n"
      ]
    },
    {
      "cell_type": "markdown",
      "metadata": {},
      "source": [
        "## Init earthdatastore with environment variables or default credentials\n\n"
      ]
    },
    {
      "cell_type": "code",
      "execution_count": null,
      "metadata": {
        "collapsed": false
      },
      "outputs": [],
      "source": [
        "eds = EarthDataStore()\n\ncollections = [\"sentinel-2-l2a\", \"landsat-c2l2-sr\"]\ndatetime = [\"2022-07-20\", \"2022-09-01\"]\nintersects = datasets.load_pivot_corumba()\nassets = [\"blue\", \"green\", \"red\", \"nir\"]\nmask_with = \"native\"\nclear_cover = 50\nresampling = \"cubic\"\ncross_calibration_collection = \"sentinel-2-l2a\""
      ]
    },
    {
      "cell_type": "markdown",
      "metadata": {},
      "source": [
        "## Create the multisensors datacube\n\n"
      ]
    },
    {
      "cell_type": "code",
      "execution_count": null,
      "metadata": {
        "collapsed": false
      },
      "outputs": [],
      "source": [
        "datacube = eds.datacube(\n    collections,\n    assets=assets,\n    datetime=datetime,\n    intersects=intersects,\n    mask_with=mask_with,\n    clear_cover=clear_cover,\n    cross_calibration_collection=cross_calibration_collection,\n)\n\n# Add the NDVI\ndatacube = datacube.ed.add_indices([\"NDVI\"])\n\n# Load in memory\ndatacube = datacube.load()"
      ]
    },
    {
      "cell_type": "markdown",
      "metadata": {},
      "source": [
        "## See the evolution in RGB\n\n"
      ]
    },
    {
      "cell_type": "code",
      "execution_count": null,
      "metadata": {
        "collapsed": false
      },
      "outputs": [],
      "source": [
        "datacube.ed.plot_rgb(col_wrap=3)\nplt.show()"
      ]
    },
    {
      "cell_type": "markdown",
      "metadata": {},
      "source": [
        "## See the NDVI evolution\n\n"
      ]
    },
    {
      "cell_type": "code",
      "execution_count": null,
      "metadata": {
        "collapsed": false
      },
      "outputs": [],
      "source": [
        "datacube[\"NDVI\"].ed.plot_band(col_wrap=3, vmin=0, vmax=0.8, cmap=\"Greens\")\nplt.show()"
      ]
    },
    {
      "cell_type": "markdown",
      "metadata": {},
      "source": [
        "## See the NDVI mean evolution\n\n"
      ]
    },
    {
      "cell_type": "code",
      "execution_count": null,
      "metadata": {
        "collapsed": false
      },
      "outputs": [],
      "source": [
        "datacube[\"NDVI\"].groupby(\"time\").mean(...).plot.line(x=\"time\")\nplt.title(\"NDVI evolution\")\nplt.show()"
      ]
    }
  ],
  "metadata": {
    "kernelspec": {
      "display_name": "Python 3",
      "language": "python",
      "name": "python3"
    },
    "language_info": {
      "codemirror_mode": {
        "name": "ipython",
        "version": 3
      },
      "file_extension": ".py",
      "mimetype": "text/x-python",
      "name": "python",
      "nbconvert_exporter": "python",
      "pygments_lexer": "ipython3",
      "version": "3.11.11"
    }
  },
  "nbformat": 4,
  "nbformat_minor": 0
}