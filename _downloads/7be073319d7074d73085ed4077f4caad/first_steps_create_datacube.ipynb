{
  "cells": [
    {
      "cell_type": "markdown",
      "metadata": {},
      "source": [
        "\n# First steps to create a datacube\n\nTo create a datacube using Earth Data Store from EarthDaily you have two possibilities.\n\nThe first one is the more classic one, you request items, then you build your datacube, and then you can mask pixels using a cloudmask asset.\nThe second one is the most turnkey one, the one we recommend, it allows to do all the process at once.\n"
      ]
    },
    {
      "cell_type": "markdown",
      "metadata": {},
      "source": [
        "## Import librairies\n\n"
      ]
    },
    {
      "cell_type": "code",
      "execution_count": null,
      "metadata": {
        "collapsed": false
      },
      "outputs": [],
      "source": [
        "from matplotlib import pyplot as plt\n\nimport earthdaily\nfrom earthdaily import EarthDataStore, datasets"
      ]
    },
    {
      "cell_type": "markdown",
      "metadata": {},
      "source": [
        "Loading geometry\n\n"
      ]
    },
    {
      "cell_type": "code",
      "execution_count": null,
      "metadata": {
        "collapsed": false
      },
      "outputs": [],
      "source": [
        "geometry = datasets.load_pivot()"
      ]
    },
    {
      "cell_type": "markdown",
      "metadata": {},
      "source": [
        "## Init earthdatastore with environment variables or default credentials\n\n"
      ]
    },
    {
      "cell_type": "code",
      "execution_count": null,
      "metadata": {
        "collapsed": false
      },
      "outputs": [],
      "source": [
        "eds = EarthDataStore()"
      ]
    },
    {
      "cell_type": "markdown",
      "metadata": {},
      "source": [
        "## Create datacube (in one step)\n\n"
      ]
    },
    {
      "cell_type": "code",
      "execution_count": null,
      "metadata": {
        "collapsed": false
      },
      "outputs": [],
      "source": [
        "s2_datacube = eds.datacube(\n    \"sentinel-2-l2a\",\n    assets=[\"blue\", \"green\", \"red\", \"nir\"],\n    intersects=geometry,\n    datetime=[\"2022-08-01\", \"2022-08-09\"],\n    mask_with=\"native\",  # equal to \"scl\" for sentinel-2\n    clear_cover=50,\n)\n\ns2_datacube.clear_percent.plot.scatter(x=\"time\")\nplt.title(\"Percentage of clear pixels on the study site\")\nplt.show()\n\ns2_datacube.ed.plot_rgb(vmin=0, vmax=0.2, col=\"time\", col_wrap=4)"
      ]
    },
    {
      "cell_type": "markdown",
      "metadata": {},
      "source": [
        "## Create datacube in three steps\n\n"
      ]
    },
    {
      "cell_type": "markdown",
      "metadata": {},
      "source": [
        "Request items\n\n"
      ]
    },
    {
      "cell_type": "code",
      "execution_count": null,
      "metadata": {
        "collapsed": false
      },
      "outputs": [],
      "source": [
        "items = eds.search(\n    \"sentinel-2-l2a\",\n    intersects=geometry,\n    datetime=[\"2022-08-01\", \"2022-08-09\"],\n)"
      ]
    },
    {
      "cell_type": "markdown",
      "metadata": {},
      "source": [
        "Creata datacube (independent from being log into earthdatastore)\nWe request the \"scl\" assets which is the native cloudmask\n\n"
      ]
    },
    {
      "cell_type": "code",
      "execution_count": null,
      "metadata": {
        "collapsed": false
      },
      "outputs": [],
      "source": [
        "s2_datacube = earthdaily.earthdatastore.datacube(\n    items, assets=[\"blue\", \"green\", \"red\", \"nir\", \"scl\"], intersects=geometry\n)"
      ]
    },
    {
      "cell_type": "markdown",
      "metadata": {},
      "source": [
        "Mask datacube\n\n"
      ]
    },
    {
      "cell_type": "code",
      "execution_count": null,
      "metadata": {
        "collapsed": false
      },
      "outputs": [],
      "source": [
        "# intersects or bbox are asked in order to compute accurate mask statistics\n\ns2_datacube = earthdaily.earthdatastore.mask.Mask(s2_datacube, intersects=geometry).scl(\n    mask_statistics=True\n)\n\ns2_datacube = earthdaily.earthdatastore.mask.filter_clear_cover(\n    s2_datacube, 50\n)  # at least 50% of clear pixels\n#\ns2_datacube.ed.plot_rgb(vmin=0, vmax=0.2, col=\"time\", col_wrap=4)"
      ]
    }
  ],
  "metadata": {
    "kernelspec": {
      "display_name": "Python 3",
      "language": "python",
      "name": "python3"
    },
    "language_info": {
      "codemirror_mode": {
        "name": "ipython",
        "version": 3
      },
      "file_extension": ".py",
      "mimetype": "text/x-python",
      "name": "python",
      "nbconvert_exporter": "python",
      "pygments_lexer": "ipython3",
      "version": "3.11.11"
    }
  },
  "nbformat": 4,
  "nbformat_minor": 0
}