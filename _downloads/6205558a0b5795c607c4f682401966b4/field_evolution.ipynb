{
  "cells": [
    {
      "cell_type": "markdown",
      "metadata": {},
      "source": [
        "\n# Field evolution and zonal stats\n\nUsing Agriculture cloud mask from EarthDaily, and data from L2A, zonal stats for evolution\n"
      ]
    },
    {
      "cell_type": "markdown",
      "metadata": {},
      "source": [
        "## Import librairies\n\n"
      ]
    },
    {
      "cell_type": "code",
      "execution_count": null,
      "metadata": {
        "collapsed": false
      },
      "outputs": [],
      "source": [
        "from matplotlib import pyplot as plt\n\nimport earthdaily as ed"
      ]
    },
    {
      "cell_type": "markdown",
      "metadata": {},
      "source": [
        "## Load plot\n\n"
      ]
    },
    {
      "cell_type": "code",
      "execution_count": null,
      "metadata": {
        "collapsed": false
      },
      "outputs": [],
      "source": [
        "# load geojson\npivot = ed.datasets.load_pivot()"
      ]
    },
    {
      "cell_type": "markdown",
      "metadata": {},
      "source": [
        "## Init earthdatastore with environment variables or default credentials\n\n"
      ]
    },
    {
      "cell_type": "code",
      "execution_count": null,
      "metadata": {
        "collapsed": false
      },
      "outputs": [],
      "source": [
        "eds = ed.EarthDataStore()"
      ]
    },
    {
      "cell_type": "markdown",
      "metadata": {},
      "source": [
        "Search for collection items for June 2022.\nwhere at least 50% of the field is clear according to the native cloudmask.\n\n"
      ]
    },
    {
      "cell_type": "code",
      "execution_count": null,
      "metadata": {
        "collapsed": false
      },
      "outputs": [],
      "source": [
        "datacube = eds.datacube(\n    \"sentinel-2-l2a\",\n    intersects=pivot,\n    datetime=[\"2022-06\", \"2022-07\"],\n    assets=[\"red\", \"green\", \"blue\", \"nir\"],\n    mask_with=\"native\",\n    clear_cover=50,\n)\ndatacube.clear_percent.plot.scatter(x=\"time\")"
      ]
    },
    {
      "cell_type": "markdown",
      "metadata": {},
      "source": [
        "## Add spectral indices using spyndex from earthdaily accessor\n\n"
      ]
    },
    {
      "cell_type": "code",
      "execution_count": null,
      "metadata": {
        "collapsed": false
      },
      "outputs": [],
      "source": [
        "datacube = datacube.ed.add_indices([\"NDVI\"])"
      ]
    },
    {
      "cell_type": "markdown",
      "metadata": {},
      "source": [
        "## Plots cube with SCL with at least 50% of clear data\n\n"
      ]
    },
    {
      "cell_type": "code",
      "execution_count": null,
      "metadata": {
        "collapsed": false
      },
      "outputs": [],
      "source": [
        "datacube = datacube.load()\ndatacube.ed.plot_rgb(col_wrap=4, vmin=0, vmax=0.3)\nplt.title(\"Pivot evolution masked with native cloudmasks\")\nplt.show()"
      ]
    },
    {
      "cell_type": "markdown",
      "metadata": {},
      "source": [
        "## Compute zonal stats for the pivot\n\n"
      ]
    },
    {
      "cell_type": "code",
      "execution_count": null,
      "metadata": {
        "collapsed": false
      },
      "outputs": [],
      "source": [
        "zonal_stats = datacube.ed.zonal_stats(pivot, [\"mean\", \"max\", \"min\"])\nzonal_stats.isel(feature=0).to_array(dim=\"band\").plot.line(\n    x=\"time\", col=\"band\", hue=\"zonal_statistics\", col_wrap=3\n)\nplt.show()"
      ]
    }
  ],
  "metadata": {
    "kernelspec": {
      "display_name": "Python 3",
      "language": "python",
      "name": "python3"
    },
    "language_info": {
      "codemirror_mode": {
        "name": "ipython",
        "version": 3
      },
      "file_extension": ".py",
      "mimetype": "text/x-python",
      "name": "python",
      "nbconvert_exporter": "python",
      "pygments_lexer": "ipython3",
      "version": "3.11.11"
    }
  },
  "nbformat": 4,
  "nbformat_minor": 0
}